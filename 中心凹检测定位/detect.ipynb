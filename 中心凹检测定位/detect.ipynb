{
 "cells": [
  {
   "cell_type": "code",
   "execution_count": 2,
   "metadata": {},
   "outputs": [],
   "source": [
    "import cv2\n",
    "import numpy as np\n",
    "import xml.etree.ElementTree as ET \n",
    "import os\n",
    "import pandas as pd\n",
    "import matplotlib.pyplot  as plt\n",
    "\n"
   ]
  },
  {
   "cell_type": "code",
   "execution_count": 18,
   "metadata": {},
   "outputs": [],
   "source": [
    "train_location_dir=\"./detection/train_location/\"\n",
    "train_images_dir=\"./detection/train/\"\n",
    "text_images_dir=\"./detection/test/\"\n",
    "csv_file_path = './detection/fovea_localization_train_GT.csv'"
   ]
  },
  {
   "cell_type": "code",
   "execution_count": 19,
   "metadata": {},
   "outputs": [],
   "source": [
    "# def resize_images(images, target_size):\n",
    "#     resized_images = []\n",
    "#     for img in images:\n",
    "#         resized_img = cv2.resize(img, target_size)\n",
    "#         resized_images.append(resized_img)\n",
    "#     return np.array(resized_images)"
   ]
  },
  {
   "cell_type": "code",
   "execution_count": 20,
   "metadata": {},
   "outputs": [],
   "source": [
    "# # test\n",
    "# image=cv2.imread(train_images_dir+\"0001.jpg\")\n",
    "# image_rgb = cv2.cvtColor(image, cv2.COLOR_BGR2RGB)\n",
    "# fig  = plt.figure(figsize=(8, 16))\n",
    "# ax1 = plt.subplot()\n",
    "# ax1.imshow(image_rgb)\n"
   ]
  },
  {
   "cell_type": "code",
   "execution_count": 21,
   "metadata": {},
   "outputs": [],
   "source": [
    "# def resize_coordinates(coordinates, original_sizes, target_size):\n",
    "#     resized_coordinates = []\n",
    "#     for coord,original_size in zip(coordinates,original_sizes):\n",
    "#         x_min, y_min, x_max, y_max = coord\n",
    "#         ratio_x = target_size[0] / original_size[0]\n",
    "#         ratio_y = target_size[1] / original_size[1]\n",
    "#         x_min_resized = int(x_min * ratio_x)\n",
    "#         y_min_resized = int(y_min * ratio_y)\n",
    "#         x_max_resized = int(x_max * ratio_x)\n",
    "#         y_max_resized = int(y_max * ratio_y)\n",
    "#         resized_coordinates.append([x_min_resized, y_min_resized, x_max_resized, y_max_resized])\n",
    "\n",
    "#     return np.array(resized_coordinates)"
   ]
  },
  {
   "cell_type": "code",
   "execution_count": 22,
   "metadata": {},
   "outputs": [],
   "source": [
    "images_names=os.listdir(train_images_dir)\n",
    "shapes=[]\n",
    "for name in images_names:\n",
    "    image = cv2.imread(train_images_dir+name,cv2.IMREAD_COLOR)\n",
    "    # 获取图像大小\n",
    "    height, width, channels = image.shape\n",
    "    shapes.append((width,height))\n",
    "\n"
   ]
  },
  {
   "cell_type": "code",
   "execution_count": 23,
   "metadata": {},
   "outputs": [],
   "source": [
    "\n",
    "locations_names=os.listdir(train_location_dir)\n",
    "locations=[]\n",
    "for name in locations_names:\n",
    "    tree=ET.parse(train_location_dir+name)\n",
    "    root = tree.getroot()\n",
    "    object_element = root.find(\"object\")\n",
    "    bndbox_element = object_element.find(\"bndbox\")\n",
    "    xmin = int(bndbox_element.find(\"xmin\").text)\n",
    "    ymin = int(bndbox_element.find(\"ymin\").text)\n",
    "    xmax = int(bndbox_element.find(\"xmax\").text)\n",
    "    ymax = int(bndbox_element.find(\"ymax\").text)\n",
    "    locations.append((xmin,ymin,xmax,ymax))\n"
   ]
  },
  {
   "cell_type": "code",
   "execution_count": 16,
   "metadata": {},
   "outputs": [
    {
     "data": {
      "text/plain": [
       "80"
      ]
     },
     "execution_count": 16,
     "metadata": {},
     "output_type": "execute_result"
    }
   ],
   "source": [
    "df = pd.read_csv(csv_file_path)\n",
    "target_coordinates=df.values.tolist()\n",
    "coordinates=[]\n",
    "for row in target_coordinates:\n",
    "    _,x,y=row\n",
    "    coordinates.append((x,y))\n",
    "len(coordinates)\n"
   ]
  },
  {
   "cell_type": "code",
   "execution_count": 27,
   "metadata": {},
   "outputs": [],
   "source": [
    "for idx,name in enumerate(images_names):\n",
    "    with open('./datasets/labels/'+name[:-4]+'.txt','w') as file:\n",
    "        width=locations[idx][2]-locations[idx][0]\n",
    "        height=locations[idx][3]-locations[idx][1]\n",
    "        x=(locations[idx][0]+width/2)/shapes[idx][0]\n",
    "        y=(locations[idx][1]+height/2)/shapes[idx][1]\n",
    "        w=(locations[idx][2]-locations[idx][0])/shapes[idx][0]\n",
    "        h=(locations[idx][3]-locations[idx][1])/shapes[idx][1]\n",
    "        x_coordinate=coordinates[idx][0]/shapes[idx][0]\n",
    "        y_coordinate=coordinates[idx][1]/shapes[idx][1]\n",
    "        file.write(f\"0 {x} {y} {w} {h} {x_coordinate} {y_coordinate}\")"
   ]
  },
  {
   "cell_type": "code",
   "execution_count": 25,
   "metadata": {},
   "outputs": [],
   "source": [
    "# #test\n",
    "# image_rgb = cv2.cvtColor(images[6], cv2.COLOR_BGR2RGB)\n",
    "# ax1 = plt.subplot(121)\n",
    "# ax1.scatter(locations[6][0], locations[6][1], color='red', marker='o', s=10)\n",
    "# ax1.imshow(image_rgb)\n",
    "# resized_image_rgb = cv2.cvtColor(resize_images[6], cv2.COLOR_BGR2RGB)\n",
    "# ax2 = plt.subplot(122)\n",
    "# ax2.scatter(resize_coordinates[6][0], resize_coordinates[6][1], color='red', marker='o', s=10)\n",
    "# ax2.imshow(resized_image_rgb)"
   ]
  },
  {
   "cell_type": "code",
   "execution_count": 1,
   "metadata": {},
   "outputs": [
    {
     "name": "stdout",
     "output_type": "stream",
     "text": [
      "Ultralytics YOLOv8.0.221 🚀 Python-3.11.3 torch-2.1.1+cpu CPU (Intel Core(TM) i5-10400F 2.90GHz)\n",
      "\u001b[34m\u001b[1mengine\\trainer: \u001b[0mtask=pose, mode=train, model=yolov8l-pose.pt, data=my.yaml, epochs=100, patience=50, batch=16, imgsz=640, save=True, save_period=-1, cache=False, device=None, workers=8, project=None, name=train, exist_ok=False, pretrained=True, optimizer=auto, verbose=True, seed=0, deterministic=True, single_cls=False, rect=False, cos_lr=False, close_mosaic=10, resume=False, amp=True, fraction=1.0, profile=False, freeze=None, overlap_mask=True, mask_ratio=4, dropout=0.0, val=True, split=val, save_json=False, save_hybrid=False, conf=None, iou=0.7, max_det=300, half=False, dnn=False, plots=True, source=None, vid_stride=1, stream_buffer=False, visualize=False, augment=False, agnostic_nms=False, classes=None, retina_masks=False, show=False, save_frames=False, save_txt=False, save_conf=False, save_crop=False, show_labels=True, show_conf=True, show_boxes=True, line_width=None, format=torchscript, keras=False, optimize=False, int8=False, dynamic=False, simplify=False, opset=None, workspace=4, nms=False, lr0=0.01, lrf=0.01, momentum=0.937, weight_decay=0.0005, warmup_epochs=3.0, warmup_momentum=0.8, warmup_bias_lr=0.1, box=7.5, cls=0.5, dfl=1.5, pose=12.0, kobj=1.0, label_smoothing=0.0, nbs=64, hsv_h=0.015, hsv_s=0.7, hsv_v=0.4, degrees=0.0, translate=0.1, scale=0.5, shear=0.0, perspective=0.0, flipud=0.0, fliplr=0.5, mosaic=1.0, mixup=0.0, copy_paste=0.0, cfg=None, tracker=botsort.yaml, save_dir=runs\\pose\\train\n",
      "Overriding model.yaml kpt_shape=[17, 3] with kpt_shape=[1, 2]\n",
      "\n",
      "                   from  n    params  module                                       arguments                     \n",
      "  0                  -1  1      1856  ultralytics.nn.modules.conv.Conv             [3, 64, 3, 2]                 \n",
      "  1                  -1  1     73984  ultralytics.nn.modules.conv.Conv             [64, 128, 3, 2]               \n",
      "  2                  -1  3    279808  ultralytics.nn.modules.block.C2f             [128, 128, 3, True]           \n",
      "  3                  -1  1    295424  ultralytics.nn.modules.conv.Conv             [128, 256, 3, 2]              \n",
      "  4                  -1  6   2101248  ultralytics.nn.modules.block.C2f             [256, 256, 6, True]           \n",
      "  5                  -1  1   1180672  ultralytics.nn.modules.conv.Conv             [256, 512, 3, 2]              \n",
      "  6                  -1  6   8396800  ultralytics.nn.modules.block.C2f             [512, 512, 6, True]           \n",
      "  7                  -1  1   2360320  ultralytics.nn.modules.conv.Conv             [512, 512, 3, 2]              \n",
      "  8                  -1  3   4461568  ultralytics.nn.modules.block.C2f             [512, 512, 3, True]           \n",
      "  9                  -1  1    656896  ultralytics.nn.modules.block.SPPF            [512, 512, 5]                 \n",
      " 10                  -1  1         0  torch.nn.modules.upsampling.Upsample         [None, 2, 'nearest']          \n",
      " 11             [-1, 6]  1         0  ultralytics.nn.modules.conv.Concat           [1]                           \n",
      " 12                  -1  3   4723712  ultralytics.nn.modules.block.C2f             [1024, 512, 3]                \n",
      " 13                  -1  1         0  torch.nn.modules.upsampling.Upsample         [None, 2, 'nearest']          \n",
      " 14             [-1, 4]  1         0  ultralytics.nn.modules.conv.Concat           [1]                           \n",
      " 15                  -1  3   1247744  ultralytics.nn.modules.block.C2f             [768, 256, 3]                 \n",
      " 16                  -1  1    590336  ultralytics.nn.modules.conv.Conv             [256, 256, 3, 2]              \n",
      " 17            [-1, 12]  1         0  ultralytics.nn.modules.conv.Concat           [1]                           \n",
      " 18                  -1  3   4592640  ultralytics.nn.modules.block.C2f             [768, 512, 3]                 \n",
      " 19                  -1  1   2360320  ultralytics.nn.modules.conv.Conv             [512, 512, 3, 2]              \n",
      " 20             [-1, 9]  1         0  ultralytics.nn.modules.conv.Concat           [1]                           \n",
      " 21                  -1  3   4723712  ultralytics.nn.modules.block.C2f             [1024, 512, 3]                \n",
      " 22        [15, 18, 21]  1   6432601  ultralytics.nn.modules.head.Pose             [1, [1, 2], [256, 512, 512]]  \n",
      "YOLOv8l-pose summary: 390 layers, 44479641 parameters, 44479625 gradients, 169.1 GFLOPs\n",
      "\n",
      "Transferred 631/637 items from pretrained weights\n",
      "Freezing layer 'model.22.dfl.conv.weight'\n"
     ]
    },
    {
     "name": "stderr",
     "output_type": "stream",
     "text": [
      "\u001b[34m\u001b[1mtrain: \u001b[0mScanning C:\\Users\\11487\\Desktop\\杂项\\object_detection\\datasets\\labels... 80 images, 0 backgrounds, 0 corrupt: 100%|██████████| 80/80 [00:00<00:00, 651.43it/s]"
     ]
    },
    {
     "name": "stdout",
     "output_type": "stream",
     "text": [
      "\u001b[34m\u001b[1mtrain: \u001b[0mNew cache created: C:\\Users\\11487\\Desktop\\杂项\\object_detection\\datasets\\labels.cache\n"
     ]
    },
    {
     "name": "stderr",
     "output_type": "stream",
     "text": [
      "\n",
      "\u001b[34m\u001b[1mval: \u001b[0mScanning C:\\Users\\11487\\Desktop\\杂项\\object_detection\\datasets\\labels.cache... 80 images, 0 backgrounds, 0 corrupt: 100%|██████████| 80/80 [00:00<?, ?it/s]\n"
     ]
    },
    {
     "name": "stdout",
     "output_type": "stream",
     "text": [
      "Plotting labels to runs\\pose\\train\\labels.jpg... \n",
      "\u001b[34m\u001b[1moptimizer:\u001b[0m 'optimizer=auto' found, ignoring 'lr0=0.01' and 'momentum=0.937' and determining best 'optimizer', 'lr0' and 'momentum' automatically... \n",
      "\u001b[34m\u001b[1moptimizer:\u001b[0m AdamW(lr=0.002, momentum=0.9) with parameter groups 103 weight(decay=0.0), 113 weight(decay=0.0005), 112 bias(decay=0.0)\n",
      "Image sizes 640 train, 640 val\n",
      "Using 0 dataloader workers\n",
      "Logging results to \u001b[1mruns\\pose\\train\u001b[0m\n",
      "Starting training for 100 epochs...\n",
      "\n",
      "      Epoch    GPU_mem   box_loss  pose_loss  kobj_loss   cls_loss   dfl_loss  Instances       Size\n"
     ]
    },
    {
     "name": "stderr",
     "output_type": "stream",
     "text": [
      "      1/100         0G      3.196     0.4171          0      7.098      2.648         23        640:  20%|██        | 1/5 [01:26<05:47, 86.83s/it]"
     ]
    }
   ],
   "source": [
    "from ultralytics import YOLO\n",
    "model = YOLO(\"yolov8l-pose.pt\")\n",
    "#Use the model\n",
    "model.train(data=\"my.yaml\", epochs=100)  # train the model\n"
   ]
  },
  {
   "cell_type": "code",
   "execution_count": 2,
   "metadata": {},
   "outputs": [
    {
     "name": "stdout",
     "output_type": "stream",
     "text": [
      "\n",
      "image 1/1 c:\\Users\\11487\\Desktop\\杂项\\detect\\detection\\test\\0081.jpg: 704x1024 1 center, 468.2ms\n",
      "Speed: 0.0ms preprocess, 468.2ms inference, 3.1ms postprocess per image at shape (1, 3, 704, 1024)\n",
      "\n",
      "image 1/1 c:\\Users\\11487\\Desktop\\杂项\\detect\\detection\\test\\0082.jpg: 704x1024 1 center, 438.6ms\n",
      "Speed: 9.0ms preprocess, 438.6ms inference, 0.0ms postprocess per image at shape (1, 3, 704, 1024)\n",
      "\n",
      "image 1/1 c:\\Users\\11487\\Desktop\\杂项\\detect\\detection\\test\\0083.jpg: 704x1024 1 center, 423.1ms\n",
      "Speed: 6.5ms preprocess, 423.1ms inference, 2.0ms postprocess per image at shape (1, 3, 704, 1024)\n",
      "\n",
      "image 1/1 c:\\Users\\11487\\Desktop\\杂项\\detect\\detection\\test\\0084.jpg: 704x1024 1 center, 448.3ms\n",
      "Speed: 9.0ms preprocess, 448.3ms inference, 3.5ms postprocess per image at shape (1, 3, 704, 1024)\n",
      "\n",
      "image 1/1 c:\\Users\\11487\\Desktop\\杂项\\detect\\detection\\test\\0085.jpg: 1024x1024 1 center, 666.3ms\n",
      "Speed: 17.9ms preprocess, 666.3ms inference, 2.0ms postprocess per image at shape (1, 3, 1024, 1024)\n",
      "\n",
      "image 1/1 c:\\Users\\11487\\Desktop\\杂项\\detect\\detection\\test\\0086.jpg: 704x1024 1 center, 476.0ms\n",
      "Speed: 10.2ms preprocess, 476.0ms inference, 2.0ms postprocess per image at shape (1, 3, 704, 1024)\n",
      "\n",
      "image 1/1 c:\\Users\\11487\\Desktop\\杂项\\detect\\detection\\test\\0087.jpg: 704x1024 1 center, 481.2ms\n",
      "Speed: 11.8ms preprocess, 481.2ms inference, 1.6ms postprocess per image at shape (1, 3, 704, 1024)\n",
      "\n",
      "image 1/1 c:\\Users\\11487\\Desktop\\杂项\\detect\\detection\\test\\0088.jpg: 704x1024 1 center, 560.9ms\n",
      "Speed: 6.8ms preprocess, 560.9ms inference, 1.0ms postprocess per image at shape (1, 3, 704, 1024)\n",
      "\n",
      "image 1/1 c:\\Users\\11487\\Desktop\\杂项\\detect\\detection\\test\\0089.jpg: 704x1024 1 center, 468.5ms\n",
      "Speed: 3.1ms preprocess, 468.5ms inference, 1.8ms postprocess per image at shape (1, 3, 704, 1024)\n",
      "\n",
      "image 1/1 c:\\Users\\11487\\Desktop\\杂项\\detect\\detection\\test\\0090.jpg: 704x1024 1 center, 462.1ms\n",
      "Speed: 9.6ms preprocess, 462.1ms inference, 2.0ms postprocess per image at shape (1, 3, 704, 1024)\n",
      "\n",
      "image 1/1 c:\\Users\\11487\\Desktop\\杂项\\detect\\detection\\test\\0091.jpg: 704x1024 1 center, 445.8ms\n",
      "Speed: 11.0ms preprocess, 445.8ms inference, 2.2ms postprocess per image at shape (1, 3, 704, 1024)\n",
      "\n",
      "image 1/1 c:\\Users\\11487\\Desktop\\杂项\\detect\\detection\\test\\0092.jpg: 704x1024 1 center, 466.0ms\n",
      "Speed: 6.9ms preprocess, 466.0ms inference, 0.0ms postprocess per image at shape (1, 3, 704, 1024)\n",
      "\n",
      "image 1/1 c:\\Users\\11487\\Desktop\\杂项\\detect\\detection\\test\\0093.jpg: 704x1024 1 center, 457.1ms\n",
      "Speed: 11.2ms preprocess, 457.1ms inference, 0.0ms postprocess per image at shape (1, 3, 704, 1024)\n",
      "\n",
      "image 1/1 c:\\Users\\11487\\Desktop\\杂项\\detect\\detection\\test\\0094.jpg: 704x1024 1 center, 436.1ms\n",
      "Speed: 0.0ms preprocess, 436.1ms inference, 3.4ms postprocess per image at shape (1, 3, 704, 1024)\n",
      "\n",
      "image 1/1 c:\\Users\\11487\\Desktop\\杂项\\detect\\detection\\test\\0095.jpg: 704x1024 1 center, 507.3ms\n",
      "Speed: 9.2ms preprocess, 507.3ms inference, 2.7ms postprocess per image at shape (1, 3, 704, 1024)\n",
      "\n",
      "image 1/1 c:\\Users\\11487\\Desktop\\杂项\\detect\\detection\\test\\0096.jpg: 704x1024 1 center, 436.7ms\n",
      "Speed: 15.6ms preprocess, 436.7ms inference, 0.0ms postprocess per image at shape (1, 3, 704, 1024)\n",
      "\n",
      "image 1/1 c:\\Users\\11487\\Desktop\\杂项\\detect\\detection\\test\\0097.jpg: 704x1024 1 center, 439.5ms\n",
      "Speed: 0.0ms preprocess, 439.5ms inference, 0.0ms postprocess per image at shape (1, 3, 704, 1024)\n",
      "\n",
      "image 1/1 c:\\Users\\11487\\Desktop\\杂项\\detect\\detection\\test\\0098.jpg: 704x1024 1 center, 405.8ms\n",
      "Speed: 15.6ms preprocess, 405.8ms inference, 0.0ms postprocess per image at shape (1, 3, 704, 1024)\n",
      "\n",
      "image 1/1 c:\\Users\\11487\\Desktop\\杂项\\detect\\detection\\test\\0099.jpg: 704x1024 1 center, 438.7ms\n",
      "Speed: 20.6ms preprocess, 438.7ms inference, 3.6ms postprocess per image at shape (1, 3, 704, 1024)\n",
      "\n",
      "image 1/1 c:\\Users\\11487\\Desktop\\杂项\\detect\\detection\\test\\0100.jpg: 704x1024 1 center, 520.6ms\n",
      "Speed: 11.5ms preprocess, 520.6ms inference, 4.9ms postprocess per image at shape (1, 3, 704, 1024)\n"
     ]
    }
   ],
   "source": [
    "from ultralytics import YOLO\n",
    "import csv\n",
    "import os\n",
    "model = YOLO(\"./best4.pt\") \n",
    "test_names=os.listdir('./detection/test/')\n",
    "# results = model.predict(\"./detection/test/0082.jpg\")\n",
    "# result = results[0]\n",
    "# box=result.boxes[0]\n",
    "# print(box)\n",
    "# print(box.xywh[0][0].item())\n",
    "with open(\"submission4.csv\",'w',newline='') as file:\n",
    "    writer=csv.writer(file)\n",
    "    writer.writerow(['ImageID','value'])\n",
    "    for test_name in test_names:\n",
    "        results = model.predict(\"./detection/test/\"+test_name)\n",
    "        result = results[0]\n",
    "        if len(result.boxes)!=0:\n",
    "            box = result.boxes[0]\n",
    "            x=box.xywh[0][0].item()\n",
    "            y=box.xywh[0][1].item()\n",
    "            writer.writerow([str(int(test_name[0:4],10))+'_Fovea_X',x])\n",
    "            writer.writerow([str(int(test_name[0:4],10))+'_Fovea_Y',y])\n",
    "        else:\n",
    "            writer.writerow([str(int(test_name[0:4],10))+'_Fovea_X',0])\n",
    "            writer.writerow([str(int(test_name[0:4],10))+'_Fovea_Y',0])\n"
   ]
  }
 ],
 "metadata": {
  "kernelspec": {
   "display_name": "Python 3",
   "language": "python",
   "name": "python3"
  },
  "language_info": {
   "codemirror_mode": {
    "name": "ipython",
    "version": 3
   },
   "file_extension": ".py",
   "mimetype": "text/x-python",
   "name": "python",
   "nbconvert_exporter": "python",
   "pygments_lexer": "ipython3",
   "version": "3.11.3"
  }
 },
 "nbformat": 4,
 "nbformat_minor": 2
}
